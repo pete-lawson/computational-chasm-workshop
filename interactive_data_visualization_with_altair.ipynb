{
 "cells": [
  {
   "cell_type": "markdown",
   "metadata": {},
   "source": [
    "## Interactive Data Visualization with Altair \n",
    "### A D3 Based Visualization Library"
   ]
  },
  {
   "cell_type": "markdown",
   "metadata": {},
   "source": [
    "`Altair` is a powerful visualization library in Python built upon `Vega-Lite` library developed by the University of Washington Interactive Data Lab https://idl.cs.washington.edu/ . `Vega-Lite` follows a \"grammar of graphics\" model of data visualization, much like the `R` package `ggplot2`, with a key difference. `Vega-Lite`, and `Altair`, are developed for interactive data visualizations on top of the `D3` Javascript library. "
   ]
  },
  {
   "cell_type": "markdown",
   "metadata": {},
   "source": [
    "The beauty and interactivity of `D3` with the ease of use of `Altair` in Python yields a powerful tool for researchers to explore and understand their data, at any scale `Jupyter Notebook` implementation, whether its on a laptop, a High-Perfomance Computing (HPC) environment like MARCC, or perhaps an intermediate system like a Google Colaboratory."
   ]
  },
  {
   "cell_type": "markdown",
   "metadata": {},
   "source": [
    "To motivate our use of `Jupyter Notebooks` as an infrastructure agnostic tool for data visualization, we will run a simple visualization example, using `Altair`, in a `Jupyter Notebook`. "
   ]
  },
  {
   "cell_type": "markdown",
   "metadata": {},
   "source": [
    "Lets begin by importing the `Altair` package into our running Python kernel, as well as some example datasets for visualizing some simple data."
   ]
  },
  {
   "cell_type": "code",
   "execution_count": 36,
   "metadata": {},
   "outputs": [],
   "source": [
    "import altair as alt\n",
    "from vega_datasets import data"
   ]
  },
  {
   "cell_type": "markdown",
   "metadata": {},
   "source": [
    "Now lets import a dataset from `vega_datasets` cars, a simple dataset compising details about cars including fuel consumption, manufacturer, origin, and horsepower. The data is stored as a `Pandas` dataframe. `Pandas` is a Python package for data manipulation of tabular data."
   ]
  },
  {
   "cell_type": "code",
   "execution_count": null,
   "metadata": {},
   "outputs": [],
   "source": [
    "cars = data.cars()\n",
    "cars.head()"
   ]
  },
  {
   "cell_type": "markdown",
   "metadata": {},
   "source": [
    "Lets create a chart with the dataframe cars"
   ]
  },
  {
   "cell_type": "code",
   "execution_count": null,
   "metadata": {},
   "outputs": [],
   "source": [
    "chart = alt.Chart(cars)"
   ]
  },
  {
   "cell_type": "markdown",
   "metadata": {},
   "source": [
    "Now we can create a scatter plot by setting our mark as a point, and encode the data we would like to visualize on the x and y axis respectively:"
   ]
  },
  {
   "cell_type": "code",
   "execution_count": null,
   "metadata": {},
   "outputs": [],
   "source": [
    "alt.Chart(cars).mark_point().encode(\n",
    "    x='Miles_per_Gallon',\n",
    "    y='Horsepower'\n",
    ")"
   ]
  },
  {
   "cell_type": "markdown",
   "metadata": {},
   "source": [
    "We can introduce an interactive grammar now, called `selection`:"
   ]
  },
  {
   "cell_type": "code",
   "execution_count": null,
   "metadata": {},
   "outputs": [],
   "source": [
    "interval = alt.selection_interval()\n",
    "\n",
    "alt.Chart(cars).mark_point().encode(\n",
    "    x='Miles_per_Gallon',\n",
    "    y='Horsepower',\n",
    "    color='Origin'\n",
    ").properties(\n",
    "    selection=interval\n",
    ")\n"
   ]
  },
  {
   "cell_type": "markdown",
   "metadata": {},
   "source": [
    "Lets make certain only the values currently selected are colored by `Origin`:"
   ]
  },
  {
   "cell_type": "code",
   "execution_count": null,
   "metadata": {},
   "outputs": [],
   "source": [
    "interval = alt.selection_interval()\n",
    "\n",
    "alt.Chart(cars).mark_point().encode(\n",
    "    x='Miles_per_Gallon',\n",
    "    y='Horsepower',\n",
    "    color=alt.condition(interval, 'Origin', alt.value('lightgray'))\n",
    ").properties(\n",
    "    selection=interval\n",
    ")\n"
   ]
  },
  {
   "cell_type": "markdown",
   "metadata": {},
   "source": [
    "Now we can add other, linked plots using the same syntax as creating a `Markdown` table:"
   ]
  },
  {
   "cell_type": "code",
   "execution_count": null,
   "metadata": {},
   "outputs": [],
   "source": [
    "interval = alt.selection_interval()\n",
    "\n",
    "chart = alt.Chart(cars).mark_point().encode(\n",
    "    x='Miles_per_Gallon',\n",
    "    y='Horsepower',\n",
    "    color=alt.condition(interval, 'Origin', alt.value('lightgray'))\n",
    ").properties(\n",
    "    selection=interval\n",
    ")\n",
    "\n",
    "chart | chart.encode(x='Acceleration')\n"
   ]
  },
  {
   "cell_type": "markdown",
   "metadata": {},
   "source": [
    "This tutorial was adapted, in part, from the presentation by Jake VanderPlas, Altair's creator, at the 2018 PyCon: \n",
    "\n",
    "_Jake VanderPlas - Exploratory Data Visualization with Vega, Vega-Lite, and Altair - PyCon 2018_"
   ]
  }
 ],
 "metadata": {
  "kernelspec": {
   "display_name": "Python 3",
   "language": "python",
   "name": "python3"
  },
  "language_info": {
   "codemirror_mode": {
    "name": "ipython",
    "version": 3
   },
   "file_extension": ".py",
   "mimetype": "text/x-python",
   "name": "python",
   "nbconvert_exporter": "python",
   "pygments_lexer": "ipython3",
   "version": "3.8.5"
  }
 },
 "nbformat": 4,
 "nbformat_minor": 4
}
