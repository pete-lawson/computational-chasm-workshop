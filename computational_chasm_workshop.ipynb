{
 "cells": [
  {
   "cell_type": "markdown",
   "metadata": {
    "slideshow": {
     "slide_type": "slide"
    }
   },
   "source": [
    "## Crossing the Computational Chasm\n",
    "#### Infrastructure Agnostic Data Visualization and Analysis with Jupyter Notebooks\n",
    "Peter Lawson \n",
    "<center><h1>Center this text!</h1></center>"
   ]
  },
  {
   "cell_type": "code",
   "execution_count": null,
   "metadata": {
    "slideshow": {
     "slide_type": "skip"
    }
   },
   "outputs": [],
   "source": []
  },
  {
   "cell_type": "code",
   "execution_count": null,
   "metadata": {
    "slideshow": {
     "slide_type": "skip"
    }
   },
   "outputs": [],
   "source": []
  },
  {
   "cell_type": "raw",
   "metadata": {
    "slideshow": {
     "slide_type": "slide"
    }
   },
   "source": [
    "%%HTML\n",
    "<h2 data-id=\"code-title\">Pretty Code</h2>\n",
    "<pre data-id=\"code-animation\"><code class=\"hljs\" data-trim data-line-numbers>\n",
    "    import React, { useState } from 'react';\n",
    "\n",
    "    function Example() {\n",
    "      const [count, setCount] = useState(0);\n",
    "\n",
    "      return (\n",
    "        ...\n",
    "      );\n",
    "    }\n",
    "</code></pre>\n"
   ]
  },
  {
   "cell_type": "code",
   "execution_count": null,
   "metadata": {},
   "outputs": [],
   "source": []
  }
 ],
 "metadata": {
  "celltoolbar": "Slideshow",
  "kernelspec": {
   "display_name": "Python 3",
   "language": "python",
   "name": "python3"
  },
  "language_info": {
   "codemirror_mode": {
    "name": "ipython",
    "version": 3
   },
   "file_extension": ".py",
   "mimetype": "text/x-python",
   "name": "python",
   "nbconvert_exporter": "python",
   "pygments_lexer": "ipython3",
   "version": "3.8.5"
  }
 },
 "nbformat": 4,
 "nbformat_minor": 4
}
