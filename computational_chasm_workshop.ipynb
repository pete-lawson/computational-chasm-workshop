{
 "cells": [
  {
   "cell_type": "markdown",
   "metadata": {
    "slideshow": {
     "slide_type": "slide"
    }
   },
   "source": [
    "## Crossing the Computational Chasm\n",
    "#### Infrastructure Agnostic Data Visualization and Analysis with Jupyter Notebooks\n",
    "Peter Lawson [github.com/pete-lawson](github.com/pete-lawson)\n",
    "\n",
    "Additional Resources [github.com/pete-lawson/computational-chasm-workshop](github.com/pete-lawson/computational-chasm-workshop)\n"
   ]
  },
  {
   "cell_type": "markdown",
   "metadata": {
    "slideshow": {
     "slide_type": "subslide"
    }
   },
   "source": [
    "\n",
    "# \"Computational Chasm\"\n",
    "![Chasm](https://earlyadopter.com/wp-content/uploads/2017/12/I-Sure-Hope-More-than-Hadoop-Crosses-the-Chasm-1600x640.jpg)"
   ]
  },
  {
   "attachments": {},
   "cell_type": "markdown",
   "metadata": {
    "slideshow": {
     "slide_type": "subslide"
    }
   },
   "source": [
    "![Chasm](https://earlyadopter.com/wp-content/uploads/2017/12/I-Sure-Hope-More-than-Hadoop-Crosses-the-Chasm-1600x640.jpg)"
   ]
  },
  {
   "cell_type": "code",
   "execution_count": null,
   "metadata": {
    "slideshow": {
     "slide_type": "skip"
    }
   },
   "outputs": [],
   "source": []
  },
  {
   "cell_type": "code",
   "execution_count": null,
   "metadata": {
    "slideshow": {
     "slide_type": "skip"
    }
   },
   "outputs": [],
   "source": []
  },
  {
   "cell_type": "raw",
   "metadata": {
    "slideshow": {
     "slide_type": "slide"
    }
   },
   "source": [
    "%%HTML\n",
    "<h2 data-id=\"code-title\">Pretty Code</h2>\n",
    "<pre data-id=\"code-animation\"><code class=\"hljs\" data-trim data-line-numbers> \n",
    "    import React, { useState } from 'react';\n",
    "\n",
    "    function Example() {\n",
    "      const [count, setCount] = useState(0);\n",
    "\n",
    "      return (\n",
    "        ...\n",
    "      );\n",
    "    }\n",
    "</code></pre>\n"
   ]
  },
  {
   "cell_type": "code",
   "execution_count": null,
   "metadata": {},
   "outputs": [],
   "source": []
  }
 ],
 "metadata": {
  "celltoolbar": "Slideshow",
  "kernelspec": {
   "display_name": "Python 3",
   "language": "python",
   "name": "python3"
  },
  "language_info": {
   "codemirror_mode": {
    "name": "ipython",
    "version": 3
   },
   "file_extension": ".py",
   "mimetype": "text/x-python",
   "name": "python",
   "nbconvert_exporter": "python",
   "pygments_lexer": "ipython3",
   "version": "3.8.5"
  }
 },
 "nbformat": 4,
 "nbformat_minor": 4
}
